{
 "cells": [
  {
   "cell_type": "markdown",
   "metadata": {},
   "source": [
    "# logisitc算法的gradient ascent推导"
   ]
  },
  {
   "cell_type": "markdown",
   "metadata": {},
   "source": [
    "## 预备信息  \n",
    "$X: 自变量矩阵, n \\times p$, 即$X$的维度为n行p列。    \n",
    "$\\beta : 系数向量, p \\times 1$,即$\\beta$维度为p行1列。对应于代码里边的weights    \n",
    "$y: 因变量向量, n \\times 1$,即$y$的维度为n行1列。    \n",
    "$p: 预测概率向量, n \\times 1$,即$p$的维度为n行1列。\n",
    "即:"
   ]
  },
  {
   "cell_type": "markdown",
   "metadata": {},
   "source": [
    "\\begin{equation*}\n",
    "    \\mathbf{X} = \\left(\n",
    "      \\begin{array}{ccc}\n",
    "        x_{11} & x_{12} & \\ldots & x_{1p}\\\\\n",
    "        x_{21} & x_{22} & \\ldots  & x_{2p}\\\\\n",
    "        \\vdots & \\vdots & \\ddots & \\vdots\\\\\n",
    "        x_{n1} & x_{n2} & \\ldots & x_{np}\n",
    "      \\end{array} \\right) ,\\quad\n",
    "       \\mathbf{y} = \\left(\n",
    "      \\begin{array}{ccc}\n",
    "        y_{1} \\\\\n",
    "        y_{2} \\\\\n",
    "        \\vdots \\\\\n",
    "        y_{n} \n",
    "      \\end{array} \\right) ,\\quad\n",
    "       \\mathbf{\\beta} = \\left(\n",
    "      \\begin{array}{ccc}\n",
    "        \\beta_{1} \\\\\n",
    "        \\beta_{2} \\\\\n",
    "        \\vdots \\\\\n",
    "        \\beta_{p} \n",
    "      \\end{array} \\right), \\quad\n",
    "       \\mathbf{p} = \\left(\n",
    "      \\begin{array}{ccc}\n",
    "        p_{1} \\\\\n",
    "        p_{2} \\\\\n",
    "        \\vdots \\\\\n",
    "        p_{n} \n",
    "      \\end{array} \\right)\n",
    "  \\end{equation*}"
   ]
  },
  {
   "cell_type": "markdown",
   "metadata": {},
   "source": [
    "## 正式推导"
   ]
  },
  {
   "cell_type": "markdown",
   "metadata": {},
   "source": [
    "接下来给出logisitc的优化函数："
   ]
  },
  {
   "cell_type": "markdown",
   "metadata": {},
   "source": [
    "$$J(\\beta) = \\prod_{i=1}^n p_{i}^{y_i} (1-p_i)^{1-y_i}, \\quad p_i = \\frac{1}{1+exp{(-X^{(i)} \\beta)}}, \\quad X^{(i)}为矩阵X的第i行$$"
   ]
  },
  {
   "cell_type": "markdown",
   "metadata": {},
   "source": [
    "对上边式子取对数，可得："
   ]
  },
  {
   "cell_type": "markdown",
   "metadata": {},
   "source": [
    "$$J(\\beta) = \\sum_{i=1}^n {y_i}log(p_{i})  + {(1-y_i)}log(1-p_i), \\quad p_i = \\frac{1}{1+exp{(-X^{(i)} \\beta)}}, \\quad X^{(i)}为矩阵X的第i行$$"
   ]
  },
  {
   "cell_type": "markdown",
   "metadata": {},
   "source": [
    "对$J(\\beta)$关于$\\beta_{j}$求导，即："
   ]
  },
  {
   "cell_type": "markdown",
   "metadata": {},
   "source": [
    "$$\\frac{\\partial J(\\beta)}{\\partial \\beta_j}  = \\frac{\\partial J(\\beta)}{\\partial p_i} \\cdot \\frac{\\partial p_i}{\\partial (X^{(i)} \\beta)} \\cdot \\frac{\\partial (X^{(i)} \\beta)}{\\partial \\beta_j}$$"
   ]
  },
  {
   "cell_type": "markdown",
   "metadata": {},
   "source": [
    "接着对分别计算三个偏导数:"
   ]
  },
  {
   "cell_type": "markdown",
   "metadata": {},
   "source": [
    "\\begin{align*}\n",
    "\\frac{\\partial J(\\beta)}{\\partial p_i} &= \\sum_{i=1}^n (\\frac{y_i}{p_i} - \\frac{1-y_i}{1-p_i})= \\sum_{i=1}^n \\left[y_i \\cdot (1+exp{(-X^{(i)} \\beta)}) - (1-y_i)(1+exp{(X^{(i)} \\beta)}) \\right]\\\\ \n",
    "\\end{align*}\n"
   ]
  },
  {
   "cell_type": "markdown",
   "metadata": {},
   "source": [
    "\\begin{align*}\n",
    "\\frac{\\partial p_i}{\\partial (X^{(i)} \\beta)} = \\frac{exp{(-X^{(i)} \\beta})}{(1+exp{(-X^{(i)} \\beta)})^2}\n",
    "\\end{align*}"
   ]
  },
  {
   "cell_type": "markdown",
   "metadata": {},
   "source": [
    "$$\\frac{\\partial (X^{(i)} \\beta)}{\\partial \\beta_j} = x_{ij}, \\quad x_{ij}为X矩阵的i行j列$$"
   ]
  },
  {
   "cell_type": "markdown",
   "metadata": {},
   "source": [
    "将上述结果代入$\\frac{\\partial J(\\beta)}{\\partial \\beta_j}  = \\frac{\\partial J(\\beta)}{\\partial p_i} \\cdot \\frac{\\partial p_i}{\\partial (X^{(i)} \\beta)} \\cdot \\frac{\\partial (X^{(i)} \\beta)}{\\partial \\beta_j}$中，得"
   ]
  },
  {
   "cell_type": "markdown",
   "metadata": {},
   "source": [
    "\\begin{align*}\n",
    "\\frac{\\partial J(\\beta)}{\\partial \\beta_j} &= \\frac{\\partial J(\\beta)}{\\partial p_i} \\cdot \\frac{\\partial p_i}{\\partial (X^{(i)} \\beta)} \\cdot \\frac{\\partial (X^{(i)} \\beta)}{\\partial \\beta_j}\\\\\n",
    "& = \\sum_{i=1}^n \\left[y_i \\cdot (1+exp{(-X^{(i)} \\beta)}) - (1-y_i)(1+exp{(X^{(i)} \\beta)}) \\right] \\cdot \\frac{exp{(-X^{(i)} \\beta})}{(1+exp{(-X^{(i)} \\beta)})^2} \\cdot x_{ij}\\\\ \n",
    "& = \\sum_{i=1}^n \\left[y_i \\cdot \\frac{exp{(-X^{(i)} \\beta)}}{(1+exp{(-X^{(i)} \\beta)})} - (1-y_i)\\frac{1}{(1+exp{(-X^{(i)} \\beta)})} \\right]  \\cdot x_{ij}\\\\\n",
    "& = \\sum_{i=1}^n \\left[y_i \\cdot (1-p_i) - (1-y_i)p_i \\right]  \\cdot x_{ij}\\\\\n",
    "& = \\sum_{i=1}^n (y_i - p_i) \\cdot x_{ij}\n",
    "\\end{align*}\n"
   ]
  },
  {
   "cell_type": "markdown",
   "metadata": {},
   "source": [
    "由此，得出logistic系数更新的梯度上升公式:"
   ]
  },
  {
   "cell_type": "markdown",
   "metadata": {},
   "source": [
    "\\begin{align*}\n",
    "\\beta_j &= \\beta_j + \\alpha \\cdot \\frac{\\partial J(\\beta)}{\\partial \\beta_j}\\\\\n",
    "& = \\alpha \\cdot \\sum_{i=1}^n (y_i - p_i) \\cdot x_{ij}\\\\\n",
    "& =  \\alpha \\cdot (y_i - p_i) \\cdot X^{(i)}\n",
    "\\end{align*}\n"
   ]
  },
  {
   "cell_type": "markdown",
   "metadata": {},
   "source": [
    "**注1:**  上式最后一个等号是将求和向量化，从而得到代码中**随机梯度上升**的更新公式. "
   ]
  },
  {
   "cell_type": "markdown",
   "metadata": {},
   "source": [
    "**注2:** $X^{(i)}$为矩阵X的第i行。"
   ]
  },
  {
   "cell_type": "markdown",
   "metadata": {},
   "source": [
    "**注3:** 以上公式中, $i = 1,2,3,...,n$, $\\;$ $j = 1,2,3,...,p$ "
   ]
  },
  {
   "cell_type": "markdown",
   "metadata": {},
   "source": [
    "**注4**: 代码中的weights即本文档中的$\\beta$, alpha即本文档中的$\\alpha$。随机梯度上升代码中的h即本文档中的$p_i$"
   ]
  },
  {
   "cell_type": "markdown",
   "metadata": {},
   "source": [
    "为编程方便，我们希望在代码中输入的是向量$\\beta$, 向量$y$, 向量$p$, 矩阵$X$, 故将$\\beta_j = \\alpha \\cdot (y_i - p_i) \\cdot X^{(i)}$继续矢量化，得"
   ]
  },
  {
   "cell_type": "markdown",
   "metadata": {},
   "source": [
    "$$\\beta = \\beta + \\alpha \\cdot X^{T} \\cdot (y - p)$$"
   ]
  },
  {
   "cell_type": "markdown",
   "metadata": {},
   "source": [
    "到此，logisitc的梯度上升以及随机梯度上升公式全部推导完毕."
   ]
  }
 ],
 "metadata": {
  "kernelspec": {
   "display_name": "Python 3",
   "language": "python",
   "name": "python3"
  },
  "language_info": {
   "codemirror_mode": {
    "name": "ipython",
    "version": 3
   },
   "file_extension": ".py",
   "mimetype": "text/x-python",
   "name": "python",
   "nbconvert_exporter": "python",
   "pygments_lexer": "ipython3",
   "version": "3.6.5"
  }
 },
 "nbformat": 4,
 "nbformat_minor": 2
}
